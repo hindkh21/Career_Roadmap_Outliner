{
 "cells": [
  {
   "attachments": {},
   "cell_type": "markdown",
   "metadata": {},
   "source": [
    "\n",
    "# Data understanding\n",
    "## 1. Initial Data Report\n",
    "In this phase you start by listing:\n",
    "- Data sources acquired with their locations\n",
    "- The methods used to acquire them\n",
    "- Any problems encountered\n",
    "## 2. Data Description\n",
    "- Overview of the dataset \n",
    "- Format\n",
    "- Quantity\n",
    "- Whether or not it satisfied the requirements\n",
    "## 3. Data Quality\n",
    "### 3.1 Questions\n",
    "- Is the data complete?\n",
    "- Is it correct, or does it contain errors and, if there are errors, how common are they?\n",
    "- Are there missing values in the data? If so, how are they represented, where do they occur, and how common are they?\n",
    "### 3.2 Outliers and missing values\n",
    "- Describe whether there are missing values and outliers\n",
    "- The method you're going to use to deal with each of them\n",
    "\n",
    "## 4. Data Exploration\n",
    "- Distribution of key attributes (for example, the target attribute of a prediction task)\n",
    "- Relationships between pairs or small numbers of attributes\n",
    "- Results of simple aggregations\n",
    "- Properties of significant sub-populations\n",
    "- Simple statistical analyses"
   ]
  },
  {
   "cell_type": "markdown",
   "metadata": {},
   "source": []
  }
 ],
 "metadata": {
  "kernelspec": {
   "display_name": "Python 3",
   "language": "python",
   "name": "python3"
  },
  "language_info": {
   "name": "python",
   "version": "3.10.4"
  },
  "orig_nbformat": 4,
  "vscode": {
   "interpreter": {
    "hash": "f2ccb58c476f33ba3e3aee7ac07234ef6b8217ef24ad64d2a7d4fed1a57c1cd2"
   }
  }
 },
 "nbformat": 4,
 "nbformat_minor": 2
}
